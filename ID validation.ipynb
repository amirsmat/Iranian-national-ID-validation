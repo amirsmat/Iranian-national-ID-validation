{
 "cells": [
  {
   "cell_type": "markdown",
   "id": "4a5e18ec-be23-4dc0-8456-4729bb03aa36",
   "metadata": {},
   "source": [
    "# Iranian national ID validation"
   ]
  },
  {
   "cell_type": "code",
   "execution_count": null,
   "id": "1a61e9b0-e381-4f4a-8fda-118088c6536c",
   "metadata": {},
   "outputs": [],
   "source": [
    "c = input(\"Code: \")\n",
    "if len(c) == 10 and all('0' <= i <= '9' for i in c):\n",
    "    s = 0\n",
    "    for i in range(9):\n",
    "        s += int(c[i]) * (10 - i)\n",
    "    r = s % 11\n",
    "    print(\"✅ Valid\" if (r < 2 and r == int(c[9])) or (r >= 2 and int(c[9]) == 11 - r) else \"❌ Invalid\")\n",
    "else:\n",
    "    print(\"❌ Invalid input\")"
   ]
  },
  {
   "cell_type": "code",
   "execution_count": null,
   "id": "3a1b9cc6-08a9-40c2-944c-bab4a6d456e4",
   "metadata": {},
   "outputs": [],
   "source": []
  }
 ],
 "metadata": {
  "kernelspec": {
   "display_name": "Python 3 (ipykernel)",
   "language": "python",
   "name": "python3"
  },
  "language_info": {
   "codemirror_mode": {
    "name": "ipython",
    "version": 3
   },
   "file_extension": ".py",
   "mimetype": "text/x-python",
   "name": "python",
   "nbconvert_exporter": "python",
   "pygments_lexer": "ipython3",
   "version": "3.13.5"
  }
 },
 "nbformat": 4,
 "nbformat_minor": 5
}
